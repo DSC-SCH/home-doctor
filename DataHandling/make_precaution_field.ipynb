{
 "cells": [
  {
   "cell_type": "code",
   "execution_count": 5,
   "metadata": {
    "collapsed": true,
    "pycharm": {
     "is_executing": false
    }
   },
   "outputs": [],
   "source": [
    "import pandas as pd\n",
    "import numpy as np"
   ]
  },
  {
   "cell_type": "code",
   "execution_count": 6,
   "outputs": [],
   "source": [
    "data_path = \"./data/precautions_data/\" \n",
    "\n",
    "final_df = pd.read_csv(\"./data/최종파일.csv\", encoding=\"cp949\")\n",
    "DUR_age_ban_list = pd.read_csv(data_path + \"DUR특정연령대금기정보목록.csv\", encoding=\"cp949\")\n",
    "old_cau_list = pd.read_csv(data_path + \"노인주의품목.csv\", encoding=\"cp949\")\n",
    "div_cau = pd.read_excel(data_path + \"분할주의.xlsx\", encoding=\"cp949\")\n",
    "volume_cau = pd.read_excel(data_path + \"용량주의.xlsx\", encoding=\"cp949\")\n",
    "pregnant_ban = pd.read_excel(data_path + \"임부금기.xlsx\", encoding=\"cp949\")\n",
    "term_cau = pd.read_csv(data_path + \"투여기간주의.csv\", encoding=\"utf-8\")\n",
    "dup_cau = pd.read_excel(data_path + \"효능군중복주의.xlsx\", encoding=\"cp949\")"
   ],
   "metadata": {
    "collapsed": false,
    "pycharm": {
     "name": "#%%\n",
     "is_executing": false
    }
   }
  },
  {
   "cell_type": "code",
   "execution_count": 14,
   "outputs": [],
   "source": [
    "def extract_num_and_content(df, cau_name):\n",
    "    if \"품목일련번호\" in df.columns:\n",
    "        df = df[[\"금기내용\", \"품목일련번호\"]]\n",
    "        df.columns = [cau_name, \"품목기준코드\"]\n",
    "    elif \"품목기준코드\" in df.columns:\n",
    "        df = df[[\"금기내용\", \"품목기준코드\"]]\n",
    "        df.columns = [cau_name, \"품목기준코드\"]\n",
    "    return df"
   ],
   "metadata": {
    "collapsed": false,
    "pycharm": {
     "name": "#%%\n",
     "is_executing": false
    }
   }
  },
  {
   "cell_type": "code",
   "execution_count": 20,
   "outputs": [
    {
     "data": {
      "text/plain": "                                             특정연령금기     품목기준코드\n0                                     안전성 및 유효성 미확립  201601501\n1                                     안전성 및 유효성 미확립  201601554\n2                                     안전성 및 유효성 미확립  201601637\n3                                               NaN  201601663\n4  - 안전성 및 유효성 미확립- 몇몇 어린 동물종을 이용한 동물실험결과 관절이상이 보고됨  201601702",
      "text/html": "<div>\n<style scoped>\n    .dataframe tbody tr th:only-of-type {\n        vertical-align: middle;\n    }\n\n    .dataframe tbody tr th {\n        vertical-align: top;\n    }\n\n    .dataframe thead th {\n        text-align: right;\n    }\n</style>\n<table border=\"1\" class=\"dataframe\">\n  <thead>\n    <tr style=\"text-align: right;\">\n      <th></th>\n      <th>특정연령금기</th>\n      <th>품목기준코드</th>\n    </tr>\n  </thead>\n  <tbody>\n    <tr>\n      <th>0</th>\n      <td>안전성 및 유효성 미확립</td>\n      <td>201601501</td>\n    </tr>\n    <tr>\n      <th>1</th>\n      <td>안전성 및 유효성 미확립</td>\n      <td>201601554</td>\n    </tr>\n    <tr>\n      <th>2</th>\n      <td>안전성 및 유효성 미확립</td>\n      <td>201601637</td>\n    </tr>\n    <tr>\n      <th>3</th>\n      <td>NaN</td>\n      <td>201601663</td>\n    </tr>\n    <tr>\n      <th>4</th>\n      <td>- 안전성 및 유효성 미확립- 몇몇 어린 동물종을 이용한 동물실험결과 관절이상이 보고됨</td>\n      <td>201601702</td>\n    </tr>\n  </tbody>\n</table>\n</div>"
     },
     "metadata": {},
     "output_type": "execute_result",
     "execution_count": 20
    }
   ],
   "source": [
    "new_columns = [\"특정연령금기\", \"노인주의\", \"분할주의\", \"임부금기\", \"용량주의\", \"투여기간주의\", \"효능군중복주의\"]\n",
    "df_list = [DUR_age_ban_list, old_cau_list, div_cau, pregnant_ban, volume_cau, term_cau, dup_cau]\n",
    "\n",
    "for i in range(len(df_list)):\n",
    "    df_list[i] = extract_num_and_content(df_list[i], new_columns[i])\n",
    "\n",
    "# 품목기준코드 확인.\n",
    "df_list[0].head()"
   ],
   "metadata": {
    "collapsed": false,
    "pycharm": {
     "name": "#%%\n",
     "is_executing": false
    }
   }
  },
  {
   "cell_type": "code",
   "execution_count": 31,
   "outputs": [
    {
     "data": {
      "text/plain": "   Unnamed: 0     품목기준코드                                           품목명_x  \\\n0           0  195500002                                      종근당염산에페드린정   \n1           1  195500004                                        종근당아스피린정   \n2           2  195500005  중외5%포도당생리식염액(수출명:5%DextroseinnormalsalineInj.)   \n3           3  195500006                                      중외5%포도당주사액   \n4           4  195500014                                             영신단   \n\n          업체명_x      허가일자   전문일반  분류                                       성상  \\\n0        (주)종근당  19550117  전문의약품 NaN                             본품은 백색의 정제다.   \n1        (주)종근당  19550116  일반의약품 NaN                             본품은 백색의 정제다.   \n2  제이더블유중외제약(주)  19550412  전문의약품 NaN  폴리프로필렌, 다층필름플라스틱용기 또는 유리용기에 든 무색 투명한 액.   \n3  제이더블유중외제약(주)  19550413  전문의약품 NaN  폴리프로필렌, 다층필름플라스틱용기 또는 유리용기에 든 무색 투명한 액.   \n4     엔비케이제약(주)  19551008  일반의약품 NaN                                  흑갈색의 환제   \n\n           표준코드                                               효능효과  ...  \\\n0  8.806433e+12  https://nedrug.mfds.go.kr/pbp/cmn/pdfDownload/...  ...   \n1  8.806433e+12  https://nedrug.mfds.go.kr/pbp/cmn/pdfDownload/...  ...   \n2  8.806449e+12  https://nedrug.mfds.go.kr/pbp/cmn/pdfDownload/...  ...   \n3  8.806449e+12  https://nedrug.mfds.go.kr/pbp/cmn/pdfDownload/...  ...   \n4  8.806927e+12  https://nedrug.mfds.go.kr/pbp/cmn/pdfDownload/...  ...   \n\n                                  주성분 주성분수 분류명 특정연령금기 노인주의 분할주의  \\\n0                              염산에페드린    1 NaN    NaN  NaN  NaN   \n1                                아스피린    1 NaN    NaN  NaN  NaN   \n2                           포도당/염화나트륨    2 NaN    NaN  NaN  NaN   \n3                                 포도당    1 NaN    NaN  NaN  NaN   \n4  육계/건강/향부자/오매/진피/감초/고량강/정향/박하/옥수수전분   10 NaN    NaN  NaN  NaN   \n\n                    임부금기 용량주의  투여기간주의 효능군중복주의  \n0  태아의 심박수 및 심장박동 변동성 증가  NaN     NaN     NaN  \n1                    NaN  NaN     NaN     NaN  \n2                    NaN  NaN     NaN     NaN  \n3                    NaN  NaN     NaN     NaN  \n4                    NaN  NaN     NaN     NaN  \n\n[5 rows x 39 columns]",
      "text/html": "<div>\n<style scoped>\n    .dataframe tbody tr th:only-of-type {\n        vertical-align: middle;\n    }\n\n    .dataframe tbody tr th {\n        vertical-align: top;\n    }\n\n    .dataframe thead th {\n        text-align: right;\n    }\n</style>\n<table border=\"1\" class=\"dataframe\">\n  <thead>\n    <tr style=\"text-align: right;\">\n      <th></th>\n      <th>Unnamed: 0</th>\n      <th>품목기준코드</th>\n      <th>품목명_x</th>\n      <th>업체명_x</th>\n      <th>허가일자</th>\n      <th>전문일반</th>\n      <th>분류</th>\n      <th>성상</th>\n      <th>표준코드</th>\n      <th>효능효과</th>\n      <th>...</th>\n      <th>주성분</th>\n      <th>주성분수</th>\n      <th>분류명</th>\n      <th>특정연령금기</th>\n      <th>노인주의</th>\n      <th>분할주의</th>\n      <th>임부금기</th>\n      <th>용량주의</th>\n      <th>투여기간주의</th>\n      <th>효능군중복주의</th>\n    </tr>\n  </thead>\n  <tbody>\n    <tr>\n      <th>0</th>\n      <td>0</td>\n      <td>195500002</td>\n      <td>종근당염산에페드린정</td>\n      <td>(주)종근당</td>\n      <td>19550117</td>\n      <td>전문의약품</td>\n      <td>NaN</td>\n      <td>본품은 백색의 정제다.</td>\n      <td>8.806433e+12</td>\n      <td>https://nedrug.mfds.go.kr/pbp/cmn/pdfDownload/...</td>\n      <td>...</td>\n      <td>염산에페드린</td>\n      <td>1</td>\n      <td>NaN</td>\n      <td>NaN</td>\n      <td>NaN</td>\n      <td>NaN</td>\n      <td>태아의 심박수 및 심장박동 변동성 증가</td>\n      <td>NaN</td>\n      <td>NaN</td>\n      <td>NaN</td>\n    </tr>\n    <tr>\n      <th>1</th>\n      <td>1</td>\n      <td>195500004</td>\n      <td>종근당아스피린정</td>\n      <td>(주)종근당</td>\n      <td>19550116</td>\n      <td>일반의약품</td>\n      <td>NaN</td>\n      <td>본품은 백색의 정제다.</td>\n      <td>8.806433e+12</td>\n      <td>https://nedrug.mfds.go.kr/pbp/cmn/pdfDownload/...</td>\n      <td>...</td>\n      <td>아스피린</td>\n      <td>1</td>\n      <td>NaN</td>\n      <td>NaN</td>\n      <td>NaN</td>\n      <td>NaN</td>\n      <td>NaN</td>\n      <td>NaN</td>\n      <td>NaN</td>\n      <td>NaN</td>\n    </tr>\n    <tr>\n      <th>2</th>\n      <td>2</td>\n      <td>195500005</td>\n      <td>중외5%포도당생리식염액(수출명:5%DextroseinnormalsalineInj.)</td>\n      <td>제이더블유중외제약(주)</td>\n      <td>19550412</td>\n      <td>전문의약품</td>\n      <td>NaN</td>\n      <td>폴리프로필렌, 다층필름플라스틱용기 또는 유리용기에 든 무색 투명한 액.</td>\n      <td>8.806449e+12</td>\n      <td>https://nedrug.mfds.go.kr/pbp/cmn/pdfDownload/...</td>\n      <td>...</td>\n      <td>포도당/염화나트륨</td>\n      <td>2</td>\n      <td>NaN</td>\n      <td>NaN</td>\n      <td>NaN</td>\n      <td>NaN</td>\n      <td>NaN</td>\n      <td>NaN</td>\n      <td>NaN</td>\n      <td>NaN</td>\n    </tr>\n    <tr>\n      <th>3</th>\n      <td>3</td>\n      <td>195500006</td>\n      <td>중외5%포도당주사액</td>\n      <td>제이더블유중외제약(주)</td>\n      <td>19550413</td>\n      <td>전문의약품</td>\n      <td>NaN</td>\n      <td>폴리프로필렌, 다층필름플라스틱용기 또는 유리용기에 든 무색 투명한 액.</td>\n      <td>8.806449e+12</td>\n      <td>https://nedrug.mfds.go.kr/pbp/cmn/pdfDownload/...</td>\n      <td>...</td>\n      <td>포도당</td>\n      <td>1</td>\n      <td>NaN</td>\n      <td>NaN</td>\n      <td>NaN</td>\n      <td>NaN</td>\n      <td>NaN</td>\n      <td>NaN</td>\n      <td>NaN</td>\n      <td>NaN</td>\n    </tr>\n    <tr>\n      <th>4</th>\n      <td>4</td>\n      <td>195500014</td>\n      <td>영신단</td>\n      <td>엔비케이제약(주)</td>\n      <td>19551008</td>\n      <td>일반의약품</td>\n      <td>NaN</td>\n      <td>흑갈색의 환제</td>\n      <td>8.806927e+12</td>\n      <td>https://nedrug.mfds.go.kr/pbp/cmn/pdfDownload/...</td>\n      <td>...</td>\n      <td>육계/건강/향부자/오매/진피/감초/고량강/정향/박하/옥수수전분</td>\n      <td>10</td>\n      <td>NaN</td>\n      <td>NaN</td>\n      <td>NaN</td>\n      <td>NaN</td>\n      <td>NaN</td>\n      <td>NaN</td>\n      <td>NaN</td>\n      <td>NaN</td>\n    </tr>\n  </tbody>\n</table>\n<p>5 rows × 39 columns</p>\n</div>"
     },
     "metadata": {},
     "output_type": "execute_result",
     "execution_count": 31
    }
   ],
   "source": [
    "for i in range(len(df_list)):\n",
    "    final_df = pd.merge(final_df, df_list[i], on=\"품목기준코드\", how=\"left\")\n",
    "\n",
    "\n",
    "final_df.head()"
   ],
   "metadata": {
    "collapsed": false,
    "pycharm": {
     "name": "#%%\n",
     "is_executing": false
    }
   }
  },
  {
   "cell_type": "code",
   "execution_count": 34,
   "outputs": [
    {
     "data": {
      "text/plain": "[True, True, True, True, True, True, True]"
     },
     "metadata": {},
     "output_type": "execute_result",
     "execution_count": 34
    }
   ],
   "source": [
    "# 각 부작용 내용들이 잘 들어갔는지 확인.\n",
    "valid = []\n",
    "\n",
    "for i in range(len(df_list)):\n",
    "    if len(df_list[i][new_columns[i]].value_counts()) == len(final_df[new_columns[i]].value_counts()):\n",
    "        valid.append(True)\n",
    "    else:\n",
    "        valid.append(False)\n",
    "valid"
   ],
   "metadata": {
    "collapsed": false,
    "pycharm": {
     "name": "#%%\n",
     "is_executing": false
    }
   }
  },
  {
   "cell_type": "code",
   "execution_count": 35,
   "outputs": [],
   "source": [
    "# save df\n",
    "\n",
    "final_df.to_csv(\"./data/부작용_추가_최종파일.csv\", encoding=\"cp949\", index=False)"
   ],
   "metadata": {
    "collapsed": false,
    "pycharm": {
     "name": "#%%\n",
     "is_executing": false
    }
   }
  },
  {
   "cell_type": "code",
   "execution_count": null,
   "outputs": [],
   "source": [
    "\n"
   ],
   "metadata": {
    "collapsed": false,
    "pycharm": {
     "name": "#%%\n"
    }
   }
  }
 ],
 "metadata": {
  "kernelspec": {
   "display_name": "Python 3",
   "language": "python",
   "name": "python3"
  },
  "language_info": {
   "codemirror_mode": {
    "name": "ipython",
    "version": 2
   },
   "file_extension": ".py",
   "mimetype": "text/x-python",
   "name": "python",
   "nbconvert_exporter": "python",
   "pygments_lexer": "ipython2",
   "version": "2.7.6"
  },
  "pycharm": {
   "stem_cell": {
    "cell_type": "raw",
    "source": [],
    "metadata": {
     "collapsed": false
    }
   }
  }
 },
 "nbformat": 4,
 "nbformat_minor": 0
}