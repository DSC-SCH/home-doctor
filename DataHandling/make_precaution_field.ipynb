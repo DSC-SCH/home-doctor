{
 "cells": [
  {
   "cell_type": "code",
   "execution_count": 12,
   "metadata": {
    "pycharm": {
     "is_executing": false
    }
   },
   "outputs": [],
   "source": [
    "import pandas as pd\n",
    "import numpy as np"
   ]
  },
  {
   "cell_type": "code",
   "execution_count": 13,
   "metadata": {
    "pycharm": {
     "is_executing": false,
     "name": "#%%\n"
    }
   },
   "outputs": [],
   "source": [
    "data_path = \"./data/precautions_data/\" \n",
    "\n",
    "final_df = pd.read_csv(\"./data/OpenData_ItemPermitDetail20200208.csv\", encoding=\"cp949\")\n",
    "DUR_age_ban_list = pd.read_csv(data_path + \"DUR특정연령대금기정보목록.csv\", encoding=\"cp949\")\n",
    "old_cau_list = pd.read_csv(data_path + \"노인주의품목.csv\", encoding=\"cp949\")\n",
    "div_cau = pd.read_excel(data_path + \"분할주의.xlsx\", encoding=\"cp949\")\n",
    "volume_cau = pd.read_excel(data_path + \"용량주의.xlsx\", encoding=\"cp949\")\n",
    "pregnant_ban = pd.read_excel(data_path + \"임부금기.xlsx\", encoding=\"cp949\")\n",
    "term_cau = pd.read_csv(data_path + \"투여기간주의.csv\", encoding=\"utf-8\")\n",
    "dup_cau = pd.read_excel(data_path + \"효능군중복주의.xlsx\", encoding=\"cp949\")"
   ]
  },
  {
   "cell_type": "code",
   "execution_count": 14,
   "metadata": {
    "pycharm": {
     "is_executing": false,
     "name": "#%%\n"
    }
   },
   "outputs": [],
   "source": [
    "def extract_num_and_content(df, cau_name):\n",
    "    if \"품목일련번호\" in df.columns:\n",
    "        df = df[[\"금기내용\", \"품목일련번호\"]]\n",
    "        df.columns = [cau_name, \"품목일련번호\"]\n",
    "    elif \"품목기준코드\" in df.columns:\n",
    "        df = df[[\"금기내용\", \"품목기준코드\"]]\n",
    "        df.columns = [cau_name, \"품목일련번호\"]\n",
    "    return df"
   ]
  },
  {
   "cell_type": "code",
   "execution_count": 15,
   "metadata": {
    "pycharm": {
     "is_executing": false,
     "name": "#%%\n"
    },
    "scrolled": true
   },
   "outputs": [
    {
     "data": {
      "text/html": [
       "<div>\n",
       "<style scoped>\n",
       "    .dataframe tbody tr th:only-of-type {\n",
       "        vertical-align: middle;\n",
       "    }\n",
       "\n",
       "    .dataframe tbody tr th {\n",
       "        vertical-align: top;\n",
       "    }\n",
       "\n",
       "    .dataframe thead th {\n",
       "        text-align: right;\n",
       "    }\n",
       "</style>\n",
       "<table border=\"1\" class=\"dataframe\">\n",
       "  <thead>\n",
       "    <tr style=\"text-align: right;\">\n",
       "      <th></th>\n",
       "      <th>특정연령금기</th>\n",
       "      <th>품목일련번호</th>\n",
       "    </tr>\n",
       "  </thead>\n",
       "  <tbody>\n",
       "    <tr>\n",
       "      <th>0</th>\n",
       "      <td>안전성 및 유효성 미확립</td>\n",
       "      <td>201601501</td>\n",
       "    </tr>\n",
       "    <tr>\n",
       "      <th>1</th>\n",
       "      <td>안전성 및 유효성 미확립</td>\n",
       "      <td>201601554</td>\n",
       "    </tr>\n",
       "    <tr>\n",
       "      <th>2</th>\n",
       "      <td>안전성 및 유효성 미확립</td>\n",
       "      <td>201601637</td>\n",
       "    </tr>\n",
       "    <tr>\n",
       "      <th>3</th>\n",
       "      <td>NaN</td>\n",
       "      <td>201601663</td>\n",
       "    </tr>\n",
       "    <tr>\n",
       "      <th>4</th>\n",
       "      <td>- 안전성 및 유효성 미확립- 몇몇 어린 동물종을 이용한 동물실험결과 관절이상이 보고됨</td>\n",
       "      <td>201601702</td>\n",
       "    </tr>\n",
       "  </tbody>\n",
       "</table>\n",
       "</div>"
      ],
      "text/plain": [
       "                                             특정연령금기     품목일련번호\n",
       "0                                     안전성 및 유효성 미확립  201601501\n",
       "1                                     안전성 및 유효성 미확립  201601554\n",
       "2                                     안전성 및 유효성 미확립  201601637\n",
       "3                                               NaN  201601663\n",
       "4  - 안전성 및 유효성 미확립- 몇몇 어린 동물종을 이용한 동물실험결과 관절이상이 보고됨  201601702"
      ]
     },
     "execution_count": 15,
     "metadata": {},
     "output_type": "execute_result"
    }
   ],
   "source": [
    "new_columns = [\"특정연령금기\", \"노인주의\", \"분할주의\", \"임부금기\", \"용량주의\", \"투여기간주의\", \"효능군중복주의\"]\n",
    "df_list = [DUR_age_ban_list, old_cau_list, div_cau, pregnant_ban, volume_cau, term_cau, dup_cau]\n",
    "\n",
    "for i in range(len(df_list)):\n",
    "    df_list[i] = extract_num_and_content(df_list[i], new_columns[i])\n",
    "\n",
    "# 품목기준코드 확인.\n",
    "df_list[0].head()"
   ]
  },
  {
   "cell_type": "code",
   "execution_count": null,
   "metadata": {},
   "outputs": [],
   "source": []
  },
  {
   "cell_type": "code",
   "execution_count": 19,
   "metadata": {
    "pycharm": {
     "is_executing": false,
     "name": "#%%\n"
    }
   },
   "outputs": [
    {
     "data": {
      "text/html": [
       "<div>\n",
       "<style scoped>\n",
       "    .dataframe tbody tr th:only-of-type {\n",
       "        vertical-align: middle;\n",
       "    }\n",
       "\n",
       "    .dataframe tbody tr th {\n",
       "        vertical-align: top;\n",
       "    }\n",
       "\n",
       "    .dataframe thead th {\n",
       "        text-align: right;\n",
       "    }\n",
       "</style>\n",
       "<table border=\"1\" class=\"dataframe\">\n",
       "  <thead>\n",
       "    <tr style=\"text-align: right;\">\n",
       "      <th></th>\n",
       "      <th>허가일자</th>\n",
       "      <th>원료성분</th>\n",
       "      <th>마약류분류</th>\n",
       "      <th>완제원료구분</th>\n",
       "      <th>포장단위</th>\n",
       "      <th>보험코드</th>\n",
       "      <th>전문일반</th>\n",
       "      <th>총량</th>\n",
       "      <th>취소상태</th>\n",
       "      <th>변경내용</th>\n",
       "      <th>...</th>\n",
       "      <th>주의사항</th>\n",
       "      <th>변경일자</th>\n",
       "      <th>주성분명</th>\n",
       "      <th>특정연령금기</th>\n",
       "      <th>노인주의</th>\n",
       "      <th>분할주의</th>\n",
       "      <th>임부금기</th>\n",
       "      <th>용량주의</th>\n",
       "      <th>투여기간주의</th>\n",
       "      <th>효능군중복주의</th>\n",
       "    </tr>\n",
       "  </thead>\n",
       "  <tbody>\n",
       "    <tr>\n",
       "      <th>0</th>\n",
       "      <td>19920627</td>\n",
       "      <td>이 약 100밀리리터 중|글루쿠로노락톤|KP|50|밀리그램;이 약 100밀리리터 중...</td>\n",
       "      <td>NaN</td>\n",
       "      <td>완제의약품</td>\n",
       "      <td>100ml/병×자사포장단위</td>\n",
       "      <td>NaN</td>\n",
       "      <td>일반의약품</td>\n",
       "      <td>이 약 100밀리리터 중-영진구론산바몬드액/이 약 100밀리리터 중-영진구론산바몬드...</td>\n",
       "      <td>정상</td>\n",
       "      <td>효능효과변경, 2017-10-30/용법용량변경, 2017-10-30/성상변경, 20...</td>\n",
       "      <td>...</td>\n",
       "      <td>https://nedrug.mfds.go.kr/pbp/cmn/pdfDownload/...</td>\n",
       "      <td>20171030.0</td>\n",
       "      <td>[M204304]피리독신염산염|[M040064]니코틴산아미드|[M050083]글루쿠...</td>\n",
       "      <td>NaN</td>\n",
       "      <td>NaN</td>\n",
       "      <td>NaN</td>\n",
       "      <td>NaN</td>\n",
       "      <td>NaN</td>\n",
       "      <td>NaN</td>\n",
       "      <td>NaN</td>\n",
       "    </tr>\n",
       "    <tr>\n",
       "      <th>1</th>\n",
       "      <td>20041026</td>\n",
       "      <td>100밀리리터 중|우루소데스옥시콜린산|KP|30|밀리그램;100밀리리터 중|염산피리...</td>\n",
       "      <td>NaN</td>\n",
       "      <td>완제의약품</td>\n",
       "      <td>100밀리리터</td>\n",
       "      <td>NaN</td>\n",
       "      <td>일반의약품</td>\n",
       "      <td>100밀리리터 중</td>\n",
       "      <td>정상</td>\n",
       "      <td>NaN</td>\n",
       "      <td>...</td>\n",
       "      <td>https://nedrug.mfds.go.kr/pbp/cmn/pdfDownload/...</td>\n",
       "      <td>NaN</td>\n",
       "      <td>[M040064]니코틴산아미드|[M095618]우루소데스옥시콜린산|[M101710]...</td>\n",
       "      <td>NaN</td>\n",
       "      <td>NaN</td>\n",
       "      <td>NaN</td>\n",
       "      <td>NaN</td>\n",
       "      <td>NaN</td>\n",
       "      <td>NaN</td>\n",
       "      <td>NaN</td>\n",
       "    </tr>\n",
       "    <tr>\n",
       "      <th>2</th>\n",
       "      <td>20050307</td>\n",
       "      <td>이 약 100mL중|유비데카레논|KP|10|밀리그램;이 약 100mL중|리보플라빈포...</td>\n",
       "      <td>NaN</td>\n",
       "      <td>완제의약품</td>\n",
       "      <td>100밀리리터</td>\n",
       "      <td>NaN</td>\n",
       "      <td>일반의약품</td>\n",
       "      <td>이 약 100mL중</td>\n",
       "      <td>정상</td>\n",
       "      <td>효능효과변경, 2012-07-29/사용상주의사항변경(부작용포함), 2012-07-2...</td>\n",
       "      <td>...</td>\n",
       "      <td>https://nedrug.mfds.go.kr/pbp/cmn/pdfDownload/...</td>\n",
       "      <td>20120729.0</td>\n",
       "      <td>[M204304]피리독신염산염|[M051233]유비데카레논|[M040064]니코틴산...</td>\n",
       "      <td>NaN</td>\n",
       "      <td>NaN</td>\n",
       "      <td>NaN</td>\n",
       "      <td>NaN</td>\n",
       "      <td>NaN</td>\n",
       "      <td>NaN</td>\n",
       "      <td>NaN</td>\n",
       "    </tr>\n",
       "    <tr>\n",
       "      <th>3</th>\n",
       "      <td>19970515</td>\n",
       "      <td>이 약 100ml 중|십전대보탕연조엑스|KPC|2.28|그램</td>\n",
       "      <td>NaN</td>\n",
       "      <td>완제의약품</td>\n",
       "      <td>100㎖</td>\n",
       "      <td>NaN</td>\n",
       "      <td>일반의약품</td>\n",
       "      <td>이 약 100ml 중</td>\n",
       "      <td>정상</td>\n",
       "      <td>효능효과변경, 2010-03-09/용법용량변경, 2010-03-09/사용상주의사항변...</td>\n",
       "      <td>...</td>\n",
       "      <td>https://nedrug.mfds.go.kr/pbp/cmn/pdfDownload/...</td>\n",
       "      <td>20100309.0</td>\n",
       "      <td>[M086696]십전대보탕연조엑스</td>\n",
       "      <td>NaN</td>\n",
       "      <td>NaN</td>\n",
       "      <td>NaN</td>\n",
       "      <td>NaN</td>\n",
       "      <td>NaN</td>\n",
       "      <td>NaN</td>\n",
       "      <td>NaN</td>\n",
       "    </tr>\n",
       "    <tr>\n",
       "      <th>4</th>\n",
       "      <td>20030114</td>\n",
       "      <td>NaN</td>\n",
       "      <td>NaN</td>\n",
       "      <td>완제의약품</td>\n",
       "      <td>5매/팩</td>\n",
       "      <td>NaN</td>\n",
       "      <td>일반의약품</td>\n",
       "      <td>제1처방 : 1 매 (10x14 평방센티미터, 12 그램), 제2처방 : 1 매 (...</td>\n",
       "      <td>정상</td>\n",
       "      <td>저장방법 및 유효기간(사용기간)변경, 2019-03-05/사용상주의사항변경(부작용포...</td>\n",
       "      <td>...</td>\n",
       "      <td>https://nedrug.mfds.go.kr/pbp/cmn/pdfDownload/...</td>\n",
       "      <td>20190305.0</td>\n",
       "      <td>[M222973]디펜히드라민염산염|[M070611]살리실산글리콜|[M230875]l...</td>\n",
       "      <td>NaN</td>\n",
       "      <td>NaN</td>\n",
       "      <td>NaN</td>\n",
       "      <td>NaN</td>\n",
       "      <td>NaN</td>\n",
       "      <td>NaN</td>\n",
       "      <td>NaN</td>\n",
       "    </tr>\n",
       "  </tbody>\n",
       "</table>\n",
       "<p>5 rows × 38 columns</p>\n",
       "</div>"
      ],
      "text/plain": [
       "       허가일자                                               원료성분 마약류분류 완제원료구분  \\\n",
       "0  19920627  이 약 100밀리리터 중|글루쿠로노락톤|KP|50|밀리그램;이 약 100밀리리터 중...   NaN  완제의약품   \n",
       "1  20041026  100밀리리터 중|우루소데스옥시콜린산|KP|30|밀리그램;100밀리리터 중|염산피리...   NaN  완제의약품   \n",
       "2  20050307  이 약 100mL중|유비데카레논|KP|10|밀리그램;이 약 100mL중|리보플라빈포...   NaN  완제의약품   \n",
       "3  19970515                  이 약 100ml 중|십전대보탕연조엑스|KPC|2.28|그램   NaN  완제의약품   \n",
       "4  20030114                                                NaN   NaN  완제의약품   \n",
       "\n",
       "             포장단위 보험코드   전문일반  \\\n",
       "0  100ml/병×자사포장단위  NaN  일반의약품   \n",
       "1         100밀리리터  NaN  일반의약품   \n",
       "2         100밀리리터  NaN  일반의약품   \n",
       "3            100㎖  NaN  일반의약품   \n",
       "4            5매/팩  NaN  일반의약품   \n",
       "\n",
       "                                                  총량 취소상태  \\\n",
       "0  이 약 100밀리리터 중-영진구론산바몬드액/이 약 100밀리리터 중-영진구론산바몬드...   정상   \n",
       "1                                          100밀리리터 중   정상   \n",
       "2                                         이 약 100mL중   정상   \n",
       "3                                        이 약 100ml 중   정상   \n",
       "4  제1처방 : 1 매 (10x14 평방센티미터, 12 그램), 제2처방 : 1 매 (...   정상   \n",
       "\n",
       "                                                변경내용  ...  \\\n",
       "0  효능효과변경, 2017-10-30/용법용량변경, 2017-10-30/성상변경, 20...  ...   \n",
       "1                                                NaN  ...   \n",
       "2  효능효과변경, 2012-07-29/사용상주의사항변경(부작용포함), 2012-07-2...  ...   \n",
       "3  효능효과변경, 2010-03-09/용법용량변경, 2010-03-09/사용상주의사항변...  ...   \n",
       "4  저장방법 및 유효기간(사용기간)변경, 2019-03-05/사용상주의사항변경(부작용포...  ...   \n",
       "\n",
       "                                                주의사항        변경일자  \\\n",
       "0  https://nedrug.mfds.go.kr/pbp/cmn/pdfDownload/...  20171030.0   \n",
       "1  https://nedrug.mfds.go.kr/pbp/cmn/pdfDownload/...         NaN   \n",
       "2  https://nedrug.mfds.go.kr/pbp/cmn/pdfDownload/...  20120729.0   \n",
       "3  https://nedrug.mfds.go.kr/pbp/cmn/pdfDownload/...  20100309.0   \n",
       "4  https://nedrug.mfds.go.kr/pbp/cmn/pdfDownload/...  20190305.0   \n",
       "\n",
       "                                                주성분명 특정연령금기 노인주의 분할주의 임부금기  \\\n",
       "0  [M204304]피리독신염산염|[M040064]니코틴산아미드|[M050083]글루쿠...    NaN  NaN  NaN  NaN   \n",
       "1  [M040064]니코틴산아미드|[M095618]우루소데스옥시콜린산|[M101710]...    NaN  NaN  NaN  NaN   \n",
       "2  [M204304]피리독신염산염|[M051233]유비데카레논|[M040064]니코틴산...    NaN  NaN  NaN  NaN   \n",
       "3                                 [M086696]십전대보탕연조엑스    NaN  NaN  NaN  NaN   \n",
       "4  [M222973]디펜히드라민염산염|[M070611]살리실산글리콜|[M230875]l...    NaN  NaN  NaN  NaN   \n",
       "\n",
       "  용량주의 투여기간주의 효능군중복주의  \n",
       "0  NaN    NaN     NaN  \n",
       "1  NaN    NaN     NaN  \n",
       "2  NaN    NaN     NaN  \n",
       "3  NaN    NaN     NaN  \n",
       "4  NaN    NaN     NaN  \n",
       "\n",
       "[5 rows x 38 columns]"
      ]
     },
     "execution_count": 19,
     "metadata": {},
     "output_type": "execute_result"
    }
   ],
   "source": [
    "for i in range(len(df_list)):\n",
    "    final_df = pd.merge(final_df, df_list[i], on=\"품목일련번호\", how=\"left\")\n",
    "\n",
    "\n",
    "final_df.head()"
   ]
  },
  {
   "cell_type": "code",
   "execution_count": 20,
   "metadata": {
    "pycharm": {
     "is_executing": false,
     "name": "#%%\n"
    }
   },
   "outputs": [
    {
     "data": {
      "text/plain": [
       "[True, True, True, True, True, True, True]"
      ]
     },
     "execution_count": 20,
     "metadata": {},
     "output_type": "execute_result"
    }
   ],
   "source": [
    "# 각 부작용 내용들이 잘 들어갔는지 확인.\n",
    "valid = []\n",
    "\n",
    "for i in range(len(df_list)):\n",
    "    if len(df_list[i][new_columns[i]].value_counts()) == len(final_df[new_columns[i]].value_counts()):\n",
    "        valid.append(True)\n",
    "    else:\n",
    "        valid.append(False)\n",
    "valid"
   ]
  },
  {
   "cell_type": "code",
   "execution_count": 21,
   "metadata": {
    "pycharm": {
     "is_executing": false,
     "name": "#%%\n"
    }
   },
   "outputs": [],
   "source": [
    "# save df\n",
    "\n",
    "final_df.to_csv(\"./data/부작용_추가_최종파일.csv\", encoding=\"cp949\", index=False)"
   ]
  },
  {
   "cell_type": "code",
   "execution_count": null,
   "metadata": {
    "pycharm": {
     "name": "#%%\n"
    }
   },
   "outputs": [],
   "source": [
    "\n"
   ]
  }
 ],
 "metadata": {
  "kernelspec": {
   "display_name": "Python 3",
   "language": "python",
   "name": "python3"
  },
  "language_info": {
   "codemirror_mode": {
    "name": "ipython",
    "version": 3
   },
   "file_extension": ".py",
   "mimetype": "text/x-python",
   "name": "python",
   "nbconvert_exporter": "python",
   "pygments_lexer": "ipython3",
   "version": "3.7.6"
  },
  "pycharm": {
   "stem_cell": {
    "cell_type": "raw",
    "metadata": {
     "collapsed": false
    },
    "source": []
   }
  }
 },
 "nbformat": 4,
 "nbformat_minor": 1
}
